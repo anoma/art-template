{
 "cells": [
  {
   "cell_type": "code",
   "execution_count": 10,
   "metadata": {},
   "outputs": [],
   "source": [
    "from zenodo import *\n",
    "import os"
   ]
  },
  {
   "cell_type": "code",
   "execution_count": 11,
   "metadata": {},
   "outputs": [
    {
     "data": {
      "text/html": [
       "<div>\n",
       "<style scoped>\n",
       "    .dataframe tbody tr th:only-of-type {\n",
       "        vertical-align: middle;\n",
       "    }\n",
       "\n",
       "    .dataframe tbody tr th {\n",
       "        vertical-align: top;\n",
       "    }\n",
       "\n",
       "    .dataframe thead th {\n",
       "        text-align: right;\n",
       "    }\n",
       "</style>\n",
       "<table border=\"1\" class=\"dataframe\">\n",
       "  <thead>\n",
       "    <tr style=\"text-align: right;\">\n",
       "      <th></th>\n",
       "      <th>title</th>\n",
       "      <th>doi/urldate</th>\n",
       "      <th>views/unique</th>\n",
       "      <th>downloads/unique</th>\n",
       "    </tr>\n",
       "  </thead>\n",
       "  <tbody>\n",
       "    <tr>\n",
       "      <th>1</th>\n",
       "      <td>Geb Pipeline</td>\n",
       "      <td>NaN</td>\n",
       "      <td>(132.0, 104.0)</td>\n",
       "      <td>(103.0, 90.0)</td>\n",
       "    </tr>\n",
       "    <tr>\n",
       "      <th>2</th>\n",
       "      <td>The Core language of Juvix</td>\n",
       "      <td>NaN</td>\n",
       "      <td>(55.0, 43.0)</td>\n",
       "      <td>(53.0, 40.0)</td>\n",
       "    </tr>\n",
       "    <tr>\n",
       "      <th>0</th>\n",
       "      <td>Juvix to VampIR Pipeline</td>\n",
       "      <td>NaN</td>\n",
       "      <td>(49.0, 45.0)</td>\n",
       "      <td>(43.0, 39.0)</td>\n",
       "    </tr>\n",
       "    <tr>\n",
       "      <th>4</th>\n",
       "      <td>Rethinking VampIR</td>\n",
       "      <td>NaN</td>\n",
       "      <td>(32.0, 29.0)</td>\n",
       "      <td>(25.0, 25.0)</td>\n",
       "    </tr>\n",
       "    <tr>\n",
       "      <th>3</th>\n",
       "      <td>Anoma: a unified architecture for full-stack d...</td>\n",
       "      <td>NaN</td>\n",
       "      <td>(28.0, 21.0)</td>\n",
       "      <td>(24.0, 18.0)</td>\n",
       "    </tr>\n",
       "  </tbody>\n",
       "</table>\n",
       "</div>"
      ],
      "text/plain": [
       "                                               title  doi/urldate  \\\n",
       "1                                       Geb Pipeline          NaN   \n",
       "2                         The Core language of Juvix          NaN   \n",
       "0                           Juvix to VampIR Pipeline          NaN   \n",
       "4                                  Rethinking VampIR          NaN   \n",
       "3  Anoma: a unified architecture for full-stack d...          NaN   \n",
       "\n",
       "     views/unique downloads/unique  \n",
       "1  (132.0, 104.0)    (103.0, 90.0)  \n",
       "2    (55.0, 43.0)     (53.0, 40.0)  \n",
       "0    (49.0, 45.0)     (43.0, 39.0)  \n",
       "4    (32.0, 29.0)     (25.0, 25.0)  \n",
       "3    (28.0, 21.0)     (24.0, 18.0)  "
      ]
     },
     "execution_count": 11,
     "metadata": {},
     "output_type": "execute_result"
    }
   ],
   "source": [
    "if 'ZENODOTOKEN' in os.environ:\n",
    "    ZENODOTOKEN = os.environ['ZENODOTOKEN']\n",
    "else:\n",
    "    print(\"Warning: ZENODOTOKEN not found in environment variable. Using default token\")\n",
    "\n",
    "zen = Zenodo(api_key = ZENODOTOKEN)\n",
    "\n",
    "ART_RECORD = list(map(lambda x : zen.find_record_by_doi(x), ART_DOI))\n",
    "df = pd.DataFrame(list(map(lambda x : x.get_info(), ART_RECORD)))\n",
    "df = df.reindex(columns=[\n",
    "    'title',\n",
    "    'date',\n",
    "    'doi/url'\n",
    "    'views/unique',\n",
    "    'downloads/unique',\n",
    "    ])\n",
    "df = df.sort_values(by=['downloads/unique'], ascending=False)\n",
    "df"
   ]
  },
  {
   "cell_type": "code",
   "execution_count": 6,
   "metadata": {},
   "outputs": [
    {
     "data": {
      "text/plain": [
       "{'conceptdoi': '10.5281/zenodo.8246535', 'conceptrecid': '8246535', 'created': '2023-08-21T10:36:37.431637+00:00', 'doi': '10.5281/zenodo.8268823', 'files': [{'bucket': '9d7e7ac2-2655-499a-ae6a-6a92e790763c', 'checksum': 'md5:b8614600959cdbe5163f1ff94c316126', 'key': '2023-Czajka-Juvix-VampIR-Pipeline.pdf', 'links': {'self': 'https://zenodo.org/api/files/9d7e7ac2-2655-499a-ae6a-6a92e790763c/2023-Czajka-Juvix-VampIR-Pipeline.pdf'}, 'size': 379493, 'type': 'pdf'}], 'id': 8268823, 'links': {'badge': 'https://zenodo.org/badge/doi/10.5281/zenodo.8268823.svg', 'bucket': 'https://zenodo.org/api/files/9d7e7ac2-2655-499a-ae6a-6a92e790763c', 'conceptbadge': 'https://zenodo.org/badge/doi/10.5281/zenodo.8246535.svg', 'conceptdoi': 'https://doi.org/10.5281/zenodo.8246535', 'doi': 'https://doi.org/10.5281/zenodo.8268823', 'html': 'https://zenodo.org/record/8268823', 'latest': 'https://zenodo.org/api/records/8268823', 'latest_html': 'https://zenodo.org/record/8268823', 'self': 'https://zenodo.org/api/records/8268823'}, 'metadata': {'access_right': 'open', 'access_right_category': 'success', 'communities': [{'id': 'anoma-research'}], 'creators': [{'name': 'Lukasz Czajka'}], 'description': '<p>This report explores two alternatives to Geb for Juvix-to-VampIR compilation. The first alternative is a<br>\\nstraightforward approach based on full normalisation, which may be implemented relatively quickly and<br>\\nused as a comparison baseline for all other approaches. The second alternative is based on a pipeline of<br>\\nseveral compiler transformations that together convert Juvix programs into a form that can be directly<br>\\ntranslated to VampIR input.</p>', 'doi': '10.5281/zenodo.8268823', 'journal': {'issue': 'Compilers', 'title': 'Anoma Research Topics'}, 'keywords': ['juvix', 'vamp-ir', 'geb', 'compilation', 'normalisation', 'arithmetic circuits'], 'language': 'eng', 'license': {'id': 'CC-BY-4.0'}, 'notes': 'This document is based on Juvix v0.4.1, Geb v0.4.0, and VampIR v0.1.3.', 'publication_date': '2023-08-14', 'related_identifiers': [{'identifier': '10.5281/zenodo.8246535', 'relation': 'isVersionOf', 'scheme': 'doi'}], 'relations': {'version': [{'count': 5, 'index': 4, 'is_last': True, 'last_child': {'pid_type': 'recid', 'pid_value': '8268823'}, 'parent': {'pid_type': 'recid', 'pid_value': '8246535'}}]}, 'resource_type': {'subtype': 'report', 'title': 'Report', 'type': 'publication'}, 'title': 'Juvix to VampIR Pipeline', 'version': 'August 21, 2023'}, 'owners': [29522], 'revision': 2, 'stats': {'downloads': 43.0, 'unique_downloads': 39.0, 'unique_views': 45.0, 'version_downloads': 133.0, 'version_unique_downloads': 97.0, 'version_unique_views': 111.0, 'version_views': 161.0, 'version_volume': 39625328.0, 'views': 49.0, 'volume': 16318199.0}, 'updated': '2023-08-21T14:26:48.335841+00:00'}"
      ]
     },
     "execution_count": 6,
     "metadata": {},
     "output_type": "execute_result"
    }
   ],
   "source": [
    "ART_RECORD[0]"
   ]
  },
  {
   "cell_type": "code",
   "execution_count": null,
   "metadata": {},
   "outputs": [],
   "source": []
  }
 ],
 "metadata": {
  "kernelspec": {
   "display_name": "Python 3",
   "language": "python",
   "name": "python3"
  },
  "language_info": {
   "codemirror_mode": {
    "name": "ipython",
    "version": 3
   },
   "file_extension": ".py",
   "mimetype": "text/x-python",
   "name": "python",
   "nbconvert_exporter": "python",
   "pygments_lexer": "ipython3",
   "version": "3.11.5"
  },
  "orig_nbformat": 4
 },
 "nbformat": 4,
 "nbformat_minor": 2
}
